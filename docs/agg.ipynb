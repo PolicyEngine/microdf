{
 "cells": [
  {
   "cell_type": "markdown",
   "metadata": {},
   "source": [
    "# The `agg` function\n",
    "\n",
    "Use `agg` to see the effect of a $10,000 UBI by marital status.\n",
    "\n",
    "## Setup"
   ]
  },
  {
   "cell_type": "code",
   "execution_count": 1,
   "metadata": {},
   "outputs": [],
   "source": [
    "import numpy as np\n",
    "import pandas as pd\n",
    "\n",
    "import taxcalc as tc\n",
    "import microdf as mdf"
   ]
  },
  {
   "cell_type": "code",
   "execution_count": 2,
   "metadata": {},
   "outputs": [
    {
     "data": {
      "text/plain": [
       "'5.0.4'"
      ]
     },
     "execution_count": 2,
     "metadata": {},
     "output_type": "execute_result"
    }
   ],
   "source": [
    "tc.__version__"
   ]
  },
  {
   "cell_type": "markdown",
   "metadata": {},
   "source": [
    "## Load data\n",
    "\n",
    "Start with a standard `DataFrame`, then add a UBI manually in a reform copy."
   ]
  },
  {
   "cell_type": "code",
   "execution_count": 3,
   "metadata": {},
   "outputs": [],
   "source": [
    "base = mdf.calc_df(group_vars=['expanded_income', 'MARS', 'XTOT'],\n",
    "                   metric_vars='aftertax_income')"
   ]
  },
  {
   "cell_type": "code",
   "execution_count": 4,
   "metadata": {},
   "outputs": [],
   "source": [
    "reform = base.copy(deep=True)\n",
    "UBI_PP = 10000\n",
    "reform['ubi'] = reform.XTOT * UBI_PP\n",
    "reform['aftertax_income'] = reform.aftertax_income + reform.ubi\n",
    "mdf.add_weighted_metrics(reform, 'aftertax_income')"
   ]
  },
  {
   "cell_type": "markdown",
   "metadata": {},
   "source": [
    "## `agg`\n",
    "\n",
    "### Change in aftertax income by marital status."
   ]
  },
  {
   "cell_type": "code",
   "execution_count": 6,
   "metadata": {},
   "outputs": [
    {
     "data": {
      "text/html": [
       "<div>\n",
       "<style scoped>\n",
       "    .dataframe tbody tr th:only-of-type {\n",
       "        vertical-align: middle;\n",
       "    }\n",
       "\n",
       "    .dataframe tbody tr th {\n",
       "        vertical-align: top;\n",
       "    }\n",
       "\n",
       "    .dataframe thead th {\n",
       "        text-align: right;\n",
       "    }\n",
       "</style>\n",
       "<table border=\"1\" class=\"dataframe\">\n",
       "  <thead>\n",
       "    <tr style=\"text-align: right;\">\n",
       "      <th></th>\n",
       "      <th>aftertax_income_m_base</th>\n",
       "      <th>aftertax_income_m_reform</th>\n",
       "      <th>aftertax_income_pctchg</th>\n",
       "    </tr>\n",
       "    <tr>\n",
       "      <th>MARS</th>\n",
       "      <th></th>\n",
       "      <th></th>\n",
       "      <th></th>\n",
       "    </tr>\n",
       "  </thead>\n",
       "  <tbody>\n",
       "    <tr>\n",
       "      <th>1.0</th>\n",
       "      <td>4.454948e+06</td>\n",
       "      <td>5.692781e+06</td>\n",
       "      <td>0.277856</td>\n",
       "    </tr>\n",
       "    <tr>\n",
       "      <th>2.0</th>\n",
       "      <td>8.086353e+06</td>\n",
       "      <td>1.007139e+07</td>\n",
       "      <td>0.245480</td>\n",
       "    </tr>\n",
       "    <tr>\n",
       "      <th>3.0</th>\n",
       "      <td>1.747066e+05</td>\n",
       "      <td>2.200549e+05</td>\n",
       "      <td>0.259568</td>\n",
       "    </tr>\n",
       "    <tr>\n",
       "      <th>4.0</th>\n",
       "      <td>1.082960e+06</td>\n",
       "      <td>1.584130e+06</td>\n",
       "      <td>0.462778</td>\n",
       "    </tr>\n",
       "  </tbody>\n",
       "</table>\n",
       "</div>"
      ],
      "text/plain": [
       "      aftertax_income_m_base  aftertax_income_m_reform  aftertax_income_pctchg\n",
       "MARS                                                                          \n",
       "1.0             4.454948e+06              5.692781e+06                0.277856\n",
       "2.0             8.086353e+06              1.007139e+07                0.245480\n",
       "3.0             1.747066e+05              2.200549e+05                0.259568\n",
       "4.0             1.082960e+06              1.584130e+06                0.462778"
      ]
     },
     "execution_count": 6,
     "metadata": {},
     "output_type": "execute_result"
    }
   ],
   "source": [
    "mdf.agg(base, reform, 'MARS', 'aftertax_income')"
   ]
  },
  {
   "cell_type": "markdown",
   "metadata": {},
   "source": [
    "### Also sum baseline `expanded_income`"
   ]
  },
  {
   "cell_type": "code",
   "execution_count": 7,
   "metadata": {},
   "outputs": [
    {
     "data": {
      "text/html": [
       "<div>\n",
       "<style scoped>\n",
       "    .dataframe tbody tr th:only-of-type {\n",
       "        vertical-align: middle;\n",
       "    }\n",
       "\n",
       "    .dataframe tbody tr th {\n",
       "        vertical-align: top;\n",
       "    }\n",
       "\n",
       "    .dataframe thead th {\n",
       "        text-align: right;\n",
       "    }\n",
       "</style>\n",
       "<table border=\"1\" class=\"dataframe\">\n",
       "  <thead>\n",
       "    <tr style=\"text-align: right;\">\n",
       "      <th></th>\n",
       "      <th>aftertax_income_m_base</th>\n",
       "      <th>expanded_income</th>\n",
       "      <th>aftertax_income_m_reform</th>\n",
       "      <th>aftertax_income_pctchg</th>\n",
       "    </tr>\n",
       "    <tr>\n",
       "      <th>MARS</th>\n",
       "      <th></th>\n",
       "      <th></th>\n",
       "      <th></th>\n",
       "      <th></th>\n",
       "    </tr>\n",
       "  </thead>\n",
       "  <tbody>\n",
       "    <tr>\n",
       "      <th>1.0</th>\n",
       "      <td>4.454948e+06</td>\n",
       "      <td>6.176263e+09</td>\n",
       "      <td>5.692781e+06</td>\n",
       "      <td>0.277856</td>\n",
       "    </tr>\n",
       "    <tr>\n",
       "      <th>2.0</th>\n",
       "      <td>8.086353e+06</td>\n",
       "      <td>1.429634e+10</td>\n",
       "      <td>1.007139e+07</td>\n",
       "      <td>0.245480</td>\n",
       "    </tr>\n",
       "    <tr>\n",
       "      <th>3.0</th>\n",
       "      <td>1.747066e+05</td>\n",
       "      <td>2.233541e+08</td>\n",
       "      <td>2.200549e+05</td>\n",
       "      <td>0.259568</td>\n",
       "    </tr>\n",
       "    <tr>\n",
       "      <th>4.0</th>\n",
       "      <td>1.082960e+06</td>\n",
       "      <td>1.362624e+09</td>\n",
       "      <td>1.584130e+06</td>\n",
       "      <td>0.462778</td>\n",
       "    </tr>\n",
       "  </tbody>\n",
       "</table>\n",
       "</div>"
      ],
      "text/plain": [
       "      aftertax_income_m_base  expanded_income  aftertax_income_m_reform  \\\n",
       "MARS                                                                      \n",
       "1.0             4.454948e+06     6.176263e+09              5.692781e+06   \n",
       "2.0             8.086353e+06     1.429634e+10              1.007139e+07   \n",
       "3.0             1.747066e+05     2.233541e+08              2.200549e+05   \n",
       "4.0             1.082960e+06     1.362624e+09              1.584130e+06   \n",
       "\n",
       "      aftertax_income_pctchg  \n",
       "MARS                          \n",
       "1.0                 0.277856  \n",
       "2.0                 0.245480  \n",
       "3.0                 0.259568  \n",
       "4.0                 0.462778  "
      ]
     },
     "execution_count": 7,
     "metadata": {},
     "output_type": "execute_result"
    }
   ],
   "source": [
    "mdf.agg(base, reform, 'MARS', 'aftertax_income', 'expanded_income')"
   ]
  },
  {
   "cell_type": "markdown",
   "metadata": {},
   "source": [
    "### Also sum UBI amount"
   ]
  },
  {
   "cell_type": "code",
   "execution_count": 8,
   "metadata": {},
   "outputs": [
    {
     "data": {
      "text/html": [
       "<div>\n",
       "<style scoped>\n",
       "    .dataframe tbody tr th:only-of-type {\n",
       "        vertical-align: middle;\n",
       "    }\n",
       "\n",
       "    .dataframe tbody tr th {\n",
       "        vertical-align: top;\n",
       "    }\n",
       "\n",
       "    .dataframe thead th {\n",
       "        text-align: right;\n",
       "    }\n",
       "</style>\n",
       "<table border=\"1\" class=\"dataframe\">\n",
       "  <thead>\n",
       "    <tr style=\"text-align: right;\">\n",
       "      <th></th>\n",
       "      <th>aftertax_income_m_base</th>\n",
       "      <th>aftertax_income_m_reform</th>\n",
       "      <th>ubi_m</th>\n",
       "      <th>aftertax_income_pctchg</th>\n",
       "    </tr>\n",
       "    <tr>\n",
       "      <th>MARS</th>\n",
       "      <th></th>\n",
       "      <th></th>\n",
       "      <th></th>\n",
       "      <th></th>\n",
       "    </tr>\n",
       "  </thead>\n",
       "  <tbody>\n",
       "    <tr>\n",
       "      <th>1.0</th>\n",
       "      <td>4.454948e+06</td>\n",
       "      <td>5.692781e+06</td>\n",
       "      <td>1.237833e+06</td>\n",
       "      <td>0.277856</td>\n",
       "    </tr>\n",
       "    <tr>\n",
       "      <th>2.0</th>\n",
       "      <td>8.086353e+06</td>\n",
       "      <td>1.007139e+07</td>\n",
       "      <td>1.985039e+06</td>\n",
       "      <td>0.245480</td>\n",
       "    </tr>\n",
       "    <tr>\n",
       "      <th>3.0</th>\n",
       "      <td>1.747066e+05</td>\n",
       "      <td>2.200549e+05</td>\n",
       "      <td>4.534831e+04</td>\n",
       "      <td>0.259568</td>\n",
       "    </tr>\n",
       "    <tr>\n",
       "      <th>4.0</th>\n",
       "      <td>1.082960e+06</td>\n",
       "      <td>1.584130e+06</td>\n",
       "      <td>5.011703e+05</td>\n",
       "      <td>0.462778</td>\n",
       "    </tr>\n",
       "  </tbody>\n",
       "</table>\n",
       "</div>"
      ],
      "text/plain": [
       "      aftertax_income_m_base  aftertax_income_m_reform         ubi_m  \\\n",
       "MARS                                                                   \n",
       "1.0             4.454948e+06              5.692781e+06  1.237833e+06   \n",
       "2.0             8.086353e+06              1.007139e+07  1.985039e+06   \n",
       "3.0             1.747066e+05              2.200549e+05  4.534831e+04   \n",
       "4.0             1.082960e+06              1.584130e+06  5.011703e+05   \n",
       "\n",
       "      aftertax_income_pctchg  \n",
       "MARS                          \n",
       "1.0                 0.277856  \n",
       "2.0                 0.245480  \n",
       "3.0                 0.259568  \n",
       "4.0                 0.462778  "
      ]
     },
     "execution_count": 8,
     "metadata": {},
     "output_type": "execute_result"
    }
   ],
   "source": [
    "mdf.add_weighted_metrics(reform, 'ubi')  # Creates ubi_m = ubi * s006 / 1e6.\n",
    "\n",
    "mdf.agg(base, reform, 'MARS', 'aftertax_income', reform_metrics='ubi_m')"
   ]
  }
 ],
 "metadata": {
  "kernelspec": {
   "display_name": "pe",
   "language": "python",
   "name": "python3"
  },
  "language_info": {
   "codemirror_mode": {
    "name": "ipython",
    "version": 3
   },
   "file_extension": ".py",
   "mimetype": "text/x-python",
   "name": "python",
   "nbconvert_exporter": "python",
   "pygments_lexer": "ipython3",
   "version": "3.11.11"
  },
  "toc": {
   "base_numbering": 1,
   "nav_menu": {},
   "number_sections": true,
   "sideBar": true,
   "skip_h1_title": false,
   "title_cell": "Table of Contents",
   "title_sidebar": "Contents",
   "toc_cell": false,
   "toc_position": {},
   "toc_section_display": true,
   "toc_window_display": false
  }
 },
 "nbformat": 4,
 "nbformat_minor": 2
}
