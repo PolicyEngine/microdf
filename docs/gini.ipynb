{
 "cells": [
  {
   "cell_type": "markdown",
   "metadata": {},
   "source": [
    "# `gini` example using MicroSeries"
   ]
  },
  {
   "cell_type": "code",
   "execution_count": null,
   "metadata": {},
   "outputs": [],
   "source": [
    "import microdf as mdf\n",
    "import pandas as pd\n",
    "import numpy as np"
   ]
  },
  {
   "cell_type": "code",
   "execution_count": null,
   "metadata": {},
   "outputs": [],
   "source": [
    "# Create sample data\n",
    "x = [10, 20, 30, 40, 100]\n",
    "w = [1, 2, 3, 4, 5]\n",
    "df = pd.DataFrame({'x': x, 'w': w})"
   ]
  },
  {
   "cell_type": "markdown",
   "metadata": {},
   "source": [
    "## Using MicroSeries.gini()"
   ]
  },
  {
   "cell_type": "code",
   "execution_count": null,
   "metadata": {},
   "outputs": [],
   "source": [
    "# Create a MicroSeries with weights\n",
    "ms = mdf.MicroSeries(df.x, weights=df.w)\n",
    "print(f\"Gini coefficient: {ms.gini():.4f}\")"
   ]
  },
  {
   "cell_type": "markdown",
   "metadata": {},
   "source": [
    "## Without weights"
   ]
  },
  {
   "cell_type": "code",
   "execution_count": null,
   "metadata": {},
   "outputs": [],
   "source": [
    "# Create a MicroSeries without weights (equal weights)\n",
    "ms_unweighted = mdf.MicroSeries(df.x)\n",
    "print(f\"Unweighted Gini coefficient: {ms_unweighted.gini():.4f}\")"
   ]
  },
  {
   "cell_type": "markdown",
   "metadata": {},
   "source": [
    "## Working with MicroDataFrame"
   ]
  },
  {
   "cell_type": "code",
   "execution_count": null,
   "metadata": {},
   "outputs": [],
   "source": [
    "# Create a MicroDataFrame\n",
    "mdf_df = mdf.MicroDataFrame(df, weights='w')\n",
    "\n",
    "# Access column as MicroSeries and calculate gini\n",
    "print(f\"Gini from MicroDataFrame column: {mdf_df.x.gini():.4f}\")"
   ]
  }
 ],
 "metadata": {
  "kernelspec": {
   "display_name": "Python 3",
   "language": "python",
   "name": "python3"
  },
  "language_info": {
   "codemirror_mode": {
    "name": "ipython",
    "version": 3
   },
   "file_extension": ".py",
   "mimetype": "text/x-python",
   "name": "python",
   "nbconvert_exporter": "python",
   "pygments_lexer": "ipython3",
   "version": "3.7.7"
  }
 },
 "nbformat": 4,
 "nbformat_minor": 4
}